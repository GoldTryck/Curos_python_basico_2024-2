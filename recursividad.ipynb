{
 "cells": [
  {
   "cell_type": "markdown",
   "metadata": {},
   "source": [
    "# Funciones recursivas en Python\n",
    "\n",
    "- Una función recursiva se define, básicamente como una función que se invoca a sí misma tal que:"
   ]
  },
  {
   "cell_type": "code",
   "execution_count": 8,
   "metadata": {},
   "outputs": [],
   "source": [
    "# Usa el boton de stop para detener la recursividad\n",
    "from time import sleep\n",
    "def recursividad():\n",
    "    print(\"repito...\")\n",
    "    sleep(3)\n",
    "    recursividad()"
   ]
  },
  {
   "cell_type": "markdown",
   "metadata": {},
   "source": [
    "En el ejemplo anterior la función recursividad:\n",
    "1. imprime \"repito...\".\n",
    "2. espera 3 segundos.\n",
    "3. finalmente se vuelve a llamar a sí misma para repetir los pasos 1, 2 y 3. \n",
    "\n",
    "De esta forma, al llamar a la función, esta no se detendrá nunca por si misma. Ejecuta la siguiente celda con la llamada la función recursiva..."
   ]
  },
  {
   "cell_type": "code",
   "execution_count": 9,
   "metadata": {},
   "outputs": [
    {
     "name": "stdout",
     "output_type": "stream",
     "text": [
      "repito...\n",
      "repito...\n",
      "repito...\n",
      "repito...\n"
     ]
    },
    {
     "ename": "KeyboardInterrupt",
     "evalue": "",
     "output_type": "error",
     "traceback": [
      "\u001b[0;31m---------------------------------------------------------------------------\u001b[0m",
      "\u001b[0;31mKeyboardInterrupt\u001b[0m                         Traceback (most recent call last)",
      "Cell \u001b[0;32mIn[9], line 1\u001b[0m\n\u001b[0;32m----> 1\u001b[0m \u001b[43mrecursividad\u001b[49m\u001b[43m(\u001b[49m\u001b[43m)\u001b[49m\n",
      "Cell \u001b[0;32mIn[8], line 6\u001b[0m, in \u001b[0;36mrecursividad\u001b[0;34m()\u001b[0m\n\u001b[1;32m      4\u001b[0m \u001b[38;5;28mprint\u001b[39m(\u001b[38;5;124m\"\u001b[39m\u001b[38;5;124mrepito...\u001b[39m\u001b[38;5;124m\"\u001b[39m)\n\u001b[1;32m      5\u001b[0m sleep(\u001b[38;5;241m3\u001b[39m)\n\u001b[0;32m----> 6\u001b[0m \u001b[43mrecursividad\u001b[49m\u001b[43m(\u001b[49m\u001b[43m)\u001b[49m\n",
      "Cell \u001b[0;32mIn[8], line 6\u001b[0m, in \u001b[0;36mrecursividad\u001b[0;34m()\u001b[0m\n\u001b[1;32m      4\u001b[0m \u001b[38;5;28mprint\u001b[39m(\u001b[38;5;124m\"\u001b[39m\u001b[38;5;124mrepito...\u001b[39m\u001b[38;5;124m\"\u001b[39m)\n\u001b[1;32m      5\u001b[0m sleep(\u001b[38;5;241m3\u001b[39m)\n\u001b[0;32m----> 6\u001b[0m \u001b[43mrecursividad\u001b[49m\u001b[43m(\u001b[49m\u001b[43m)\u001b[49m\n",
      "Cell \u001b[0;32mIn[8], line 6\u001b[0m, in \u001b[0;36mrecursividad\u001b[0;34m()\u001b[0m\n\u001b[1;32m      4\u001b[0m \u001b[38;5;28mprint\u001b[39m(\u001b[38;5;124m\"\u001b[39m\u001b[38;5;124mrepito...\u001b[39m\u001b[38;5;124m\"\u001b[39m)\n\u001b[1;32m      5\u001b[0m sleep(\u001b[38;5;241m3\u001b[39m)\n\u001b[0;32m----> 6\u001b[0m \u001b[43mrecursividad\u001b[49m\u001b[43m(\u001b[49m\u001b[43m)\u001b[49m\n",
      "Cell \u001b[0;32mIn[8], line 5\u001b[0m, in \u001b[0;36mrecursividad\u001b[0;34m()\u001b[0m\n\u001b[1;32m      3\u001b[0m \u001b[38;5;28;01mdef\u001b[39;00m \u001b[38;5;21mrecursividad\u001b[39m():\n\u001b[1;32m      4\u001b[0m     \u001b[38;5;28mprint\u001b[39m(\u001b[38;5;124m\"\u001b[39m\u001b[38;5;124mrepito...\u001b[39m\u001b[38;5;124m\"\u001b[39m)\n\u001b[0;32m----> 5\u001b[0m     \u001b[43msleep\u001b[49m\u001b[43m(\u001b[49m\u001b[38;5;241;43m3\u001b[39;49m\u001b[43m)\u001b[49m\n\u001b[1;32m      6\u001b[0m     recursividad()\n",
      "\u001b[0;31mKeyboardInterrupt\u001b[0m: "
     ]
    }
   ],
   "source": [
    "recursividad()"
   ]
  },
  {
   "cell_type": "markdown",
   "metadata": {},
   "source": [
    "Para evitar que esto suceda, las funciones recursivas deben tener 2 casos de salida :\n",
    "- 1. Un caso recursivo, es decir un caso en el que el retorno sea la llamada a la misma función.\n",
    "- 2. Un caso no recursivo (caso base), cualquier salida que no llame a la misma función. Este caso determinará el momento en el que la función terminara de repetirse."
   ]
  },
  {
   "cell_type": "code",
   "execution_count": 11,
   "metadata": {},
   "outputs": [],
   "source": [
    "def cuenta_regresiva(n):\n",
    "    if n == 0: # caso base, si n es 0 se imprime el mensaje y termina la recursividad\n",
    "        print(\"¡Despegue!\")\n",
    "    else: # caso recursivo, si n no es 0 se imprime el mensaje y se llama a la función con con el argumento n-1\n",
    "        print(n, \"...\")\n",
    "        sleep(1)\n",
    "        cuenta_regresiva(n-1)"
   ]
  },
  {
   "cell_type": "markdown",
   "metadata": {},
   "source": [
    "Notese que para cada llamada a la función `cuenta_regresiva` se le pasa como argumento un valor de n cada vez más pequeño, de tal forma nos aseguramos que en algún punto la condición de salida no recursiva sea verdadera.\n",
    "\n",
    "Llama a la función `cuenta_regresiva`:"
   ]
  },
  {
   "cell_type": "code",
   "execution_count": 12,
   "metadata": {},
   "outputs": [
    {
     "name": "stdout",
     "output_type": "stream",
     "text": [
      "10 ...\n",
      "9 ...\n",
      "8 ...\n",
      "7 ...\n",
      "6 ...\n",
      "5 ...\n",
      "4 ...\n",
      "3 ...\n",
      "2 ...\n",
      "1 ...\n",
      "¡Despegue!\n"
     ]
    }
   ],
   "source": [
    "cuenta_regresiva(10)"
   ]
  },
  {
   "cell_type": "markdown",
   "metadata": {},
   "source": [
    "### Ejemplo suma de `n` números, recursivamente"
   ]
  },
  {
   "cell_type": "code",
   "execution_count": 15,
   "metadata": {},
   "outputs": [],
   "source": [
    "def suma_recursiva(n):\n",
    "    if (n == 1): #caso base\n",
    "        return 1\n",
    "    else: #caso recursivo\n",
    "        return n + suma_recursiva(n-1)"
   ]
  },
  {
   "cell_type": "markdown",
   "metadata": {},
   "source": [
    "Llama a la función `suma_recursiva`"
   ]
  },
  {
   "cell_type": "code",
   "execution_count": 16,
   "metadata": {},
   "outputs": [
    {
     "data": {
      "text/plain": [
       "6"
      ]
     },
     "execution_count": 16,
     "metadata": {},
     "output_type": "execute_result"
    }
   ],
   "source": [
    "suma_recursiva(3)"
   ]
  },
  {
   "cell_type": "markdown",
   "metadata": {},
   "source": [
    "Veamos que pasa:\n",
    "- 1. En la primera llamada a nuestra función `n = 3`, la condición no recursiva es falsa por lo que se ejecuta la condición recursiva que es `n + suma_recursiva(n-1)`. Antes de resolver la suma necesitamos conocer el valor que retorna `suma_recursiva(n-1)`...\n",
    "\n",
    "- 2. En la llamada `suma_recursiva(n-1)` tenemos que `n = 2`, nuestra condición no recursiva sigue siendo falsa, entonces retornamos`n + suma_recursiva(n-1)` ...\n",
    "\n",
    "- 3. En la siguiente llamada recursiva tenemos ahora que `n = 1`, nuestra condición no recursiva es verdadera y retornamos `1`. Ahora podemos resolver el valor de retorno del paso 2 y despues podemos resolver el valor de retorno del paso 1 tambien!!! :o\n",
    "\n",
    "#### Resolviendo el retorno del paso 2 `n + suma_recursiva(n-1) con n = 2`\n",
    "\n",
    "- Como el paso 3 nos devolvió `1`enonces `suma_recursiva(n-1) = 1`, luego `n + 1 = 2 + 1 = 3`\n",
    "\n",
    "#### Resolviendo el retorno del paso 1 `n + suma_recursiva(n-1) con n = 3`\n",
    "\n",
    "- Como el paso 2 nos devolvió `3` entonces `suma_recursiva(n-1) = 3`, luego `n + 3 = 3 + 3 = 6`"
   ]
  }
 ],
 "metadata": {
  "kernelspec": {
   "display_name": "Python 3",
   "language": "python",
   "name": "python3"
  },
  "language_info": {
   "codemirror_mode": {
    "name": "ipython",
    "version": 3
   },
   "file_extension": ".py",
   "mimetype": "text/x-python",
   "name": "python",
   "nbconvert_exporter": "python",
   "pygments_lexer": "ipython3",
   "version": "3.11.2"
  }
 },
 "nbformat": 4,
 "nbformat_minor": 2
}
