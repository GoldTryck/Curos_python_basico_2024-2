{
 "cells": [
  {
   "cell_type": "markdown",
   "metadata": {},
   "source": [
    "# 7. Manejo de archivos\n",
    "\n",
    "## a. ¿Qué es un archivo?\n",
    "* Un archivo es una colección de datos almacenados en un sistema de almacenamiento, como un disco duro, SSD, USB, etc. Los archivos se utilizan para guardar información de manera persistente, permitiendo que los datos se conserven incluso cuando el sistema se apaga.\n",
    "\n",
    "## b. Escritura\n",
    "* Podemos crear y escribir archivos en Python usando:\n",
    "\n",
    "    - `open`:\n",
    "        - Es una función que permite abrir un archivo.\n",
    "        - Recibe al menos dos argumentos: el primero es el nombre del archivo y el segundo es el modo de apertura.\n",
    "        - Retorna un objeto de tipo `file`.\n",
    "\n",
    "    - `with`:\n",
    "        - Es una sentencia que permite abrir un archivo y cerrarlo automáticamente al finalizar el bloque de código que se encuentra dentro de la sentencia.\n",
    "\n",
    "* Los modos de apertura son los siguientes:\n",
    "    - `r`: Solo lectura\n",
    "    - `w`: Solo escritura, si el archivo no existe se crea, si el archivo existe se sobrescribe.\n",
    "    - `a`: Solo escritura, si el archivo no existe se crea, si el archivo existe se añade al final.\n",
    "    - `r+`: Lectura y escritura.\n",
    "    - `w+`: Lectura y escritura, si el archivo no existe se crea, si el archivo existe se sobrescribe.\n",
    "    - `a+`: Lectura y escritura, si el archivo no existe se crea, si el archivo existe se añade al final.\n",
    "    - `b`: Modo binario.\n",
    "    - `t`: Modo texto.\n",
    "    - `x`: Solo creación, si el archivo existe se lanza una excepción.\n",
    "\n"
   ]
  },
  {
   "cell_type": "code",
   "execution_count": 3,
   "metadata": {},
   "outputs": [],
   "source": [
    "# Importar modulo os para crear directorios y archivos\n",
    "import os"
   ]
  },
  {
   "cell_type": "code",
   "execution_count": 4,
   "metadata": {},
   "outputs": [],
   "source": [
    "# Crear directorio src\n",
    "os.makedirs('src', exist_ok=True) "
   ]
  },
  {
   "cell_type": "code",
   "execution_count": 6,
   "metadata": {},
   "outputs": [],
   "source": [
    "# Crear archivo lista.txt\n",
    "with open('src/lista.txt', 'x') as file:\n",
    "    pass"
   ]
  },
  {
   "cell_type": "code",
   "execution_count": 8,
   "metadata": {},
   "outputs": [],
   "source": [
    "# Escribir un caracter en el archivo lista.txt\n",
    "with open('src/lista.txt', 'w') as file:\n",
    "    file.write('b')"
   ]
  },
  {
   "cell_type": "code",
   "execution_count": 16,
   "metadata": {},
   "outputs": [],
   "source": [
    "# Escribir una cadena en el archivo lista.txt\n",
    "with open('src/lista.txt', 'w') as file:\n",
    "    file.write('Hola mundo')"
   ]
  },
  {
   "cell_type": "code",
   "execution_count": 10,
   "metadata": {},
   "outputs": [],
   "source": [
    "# Agregar una cadena al final del archivo lista.txt\n",
    "with open('src/lista.txt', 'a') as file:\n",
    "    file.write('!!!')"
   ]
  },
  {
   "cell_type": "code",
   "execution_count": 14,
   "metadata": {},
   "outputs": [],
   "source": [
    "# Agregar una cadena al inicio del archivo lista.txt\n",
    "with open('src/lista.txt', 'r+') as file:\n",
    "    file.seek(0)\n",
    "    file.write('***')"
   ]
  },
  {
   "cell_type": "markdown",
   "metadata": {},
   "source": [
    "## c. Lectura"
   ]
  },
  {
   "cell_type": "code",
   "execution_count": 20,
   "metadata": {},
   "outputs": [
    {
     "name": "stdout",
     "output_type": "stream",
     "text": [
      "H\n",
      "o\n"
     ]
    }
   ],
   "source": [
    "# Leer un caracter del archivo lista.txt\n",
    "with open('src/lista.txt', 'r') as file:\n",
    "    print(file.read(1))"
   ]
  },
  {
   "cell_type": "code",
   "execution_count": 24,
   "metadata": {},
   "outputs": [
    {
     "name": "stdout",
     "output_type": "stream",
     "text": [
      "Hola mundo\n"
     ]
    }
   ],
   "source": [
    "# Leer una fila del archivo lista.txt\n",
    "with open('src/lista.txt', 'r') as file:\n",
    "    print(file.read())"
   ]
  },
  {
   "cell_type": "code",
   "execution_count": 25,
   "metadata": {},
   "outputs": [
    {
     "name": "stdout",
     "output_type": "stream",
     "text": [
      "['Hola mundo']\n"
     ]
    }
   ],
   "source": [
    "# Leer todas las filas del archivo lista.txt\n",
    "with open('src/lista.txt', 'r') as file:\n",
    "    print(file.readlines())"
   ]
  },
  {
   "cell_type": "markdown",
   "metadata": {},
   "source": [
    "## Escibir desde una lista:"
   ]
  },
  {
   "cell_type": "code",
   "execution_count": 43,
   "metadata": {},
   "outputs": [],
   "source": [
    "# Escribir una lista de cadenas en el archivo lista.txt\n",
    "header = ['Nombre', 'Edad', 'Sexo']\n",
    "with open('src/lista.txt', 'w') as file:\n",
    "    file.write(','.join(header) + '\\n')"
   ]
  },
  {
   "cell_type": "code",
   "execution_count": 44,
   "metadata": {},
   "outputs": [],
   "source": [
    "# Escribir una matriz de cadenas en el archivo lista.txt\n",
    "data = [\n",
    "    ['Juan', '25', 'M'],\n",
    "    ['Maria', '22', 'F'],\n",
    "    ['Pedro', '30', 'M']\n",
    "]\n",
    "with open('src/lista.txt', 'a') as file:\n",
    "    for row in data:\n",
    "        file.write(','.join(row) + '\\n')"
   ]
  },
  {
   "cell_type": "code",
   "execution_count": 46,
   "metadata": {},
   "outputs": [
    {
     "name": "stdout",
     "output_type": "stream",
     "text": [
      "['Nombre', 'Edad', 'Sexo']\n",
      "[['Juan', '25', 'M'], ['Maria', '22', 'F'], ['Pedro', '30', 'M']]\n"
     ]
    }
   ],
   "source": [
    "# Leer una matriz de cadenas del archivo lista.txt\n",
    "with open('src/lista.txt', 'r') as file:\n",
    "    header = file.readline().strip().split(',')\n",
    "    data = [line.strip().split(',') for line in file]\n",
    "\n",
    "print(header)\n",
    "print(data)"
   ]
  }
 ],
 "metadata": {
  "kernelspec": {
   "display_name": "Python 3",
   "language": "python",
   "name": "python3"
  },
  "language_info": {
   "codemirror_mode": {
    "name": "ipython",
    "version": 3
   },
   "file_extension": ".py",
   "mimetype": "text/x-python",
   "name": "python",
   "nbconvert_exporter": "python",
   "pygments_lexer": "ipython3",
   "version": "3.11.2"
  }
 },
 "nbformat": 4,
 "nbformat_minor": 2
}
